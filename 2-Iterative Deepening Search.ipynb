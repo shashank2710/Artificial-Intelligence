{
 "cells": [
  {
   "cell_type": "markdown",
   "metadata": {},
   "source": [
    "# Assignment 2: Iterative-Deepening Search"
   ]
  },
  {
   "cell_type": "markdown",
   "metadata": {},
   "source": [
    "Shashank Satyanarayana"
   ]
  },
  {
   "cell_type": "markdown",
   "metadata": {},
   "source": [
    "## Overview"
   ]
  },
  {
   "cell_type": "markdown",
   "metadata": {},
   "source": [
    "In this assignemnt, we implement the iterative-deepening search algorithm as discussed in Week 2 lecture notes and as shown in figures 3.17 and 3.18 in text book. The search algorithm is then applied to 8-puzzle and 16-puzzle."
   ]
  },
  {
   "cell_type": "markdown",
   "metadata": {},
   "source": [
    "## Introduction"
   ]
  },
  {
   "cell_type": "markdown",
   "metadata": {},
   "source": [
    "In this jupyter notebook, the following functions have been implemented:\n",
    "\n",
    "  * `iterativeDeepeningSearch(startState, goalState, actionsF, takeActionF, maxDepth)`\n",
    "  * `depthLimitedSearch(startState, goalState, actionsF, takeActionF, depthLimit)`\n",
    "  \n",
    "`depthLimitedSearch` is called by `iterativeDeepeningSearch` with `depthLimit`s of $0, 1, \\ldots, $ `maxDepth`. Both must return either the solution path as a list of states, or the strings `cutoff` or `failure`.  `failure` signifies that all states were searched and the goal was not found. \n",
    "\n",
    "Each function receives the following arguments:\n",
    "\n",
    "  * the starting state, \n",
    "  * the goal state,\n",
    "  * a function `actionsF` that is given a state and returns a list of valid actions from that state,\n",
    "  * a function `takeActionF` that is given a state and an action and returns the new state that results from applying the action to the state,\n",
    "  * either a `depthLimit` for `depthLimitedSearch`, or `maxDepth` for `iterativeDeepeningSearch`."
   ]
  },
  {
   "cell_type": "markdown",
   "metadata": {},
   "source": [
    "The implementation of the above mentioned search algorithms is used to solve the 8 and 15 puzzles respectively.\n",
    "The state of the puzzle is implemented using a list of integers, where 0 represents an empty or null position. \n",
    "\n",
    "The following functions are used to solve the puzzles.\n",
    "\n",
    "  * `findBlank_p(state)`: returns the row and column index for the location of the blank (the 0 value).\n",
    "  * `actionsF_p(state)`: returns a list of up to four valid actions that can be applied in `state`. Return them in the order `left`, `right`, `up`, `down`, though only if each one is a valid action.\n",
    "  * `takeActionF_p(state, action)`: returns the state that results from applying `action` in `state`.\n",
    "  * `printPath_p(startState, goalState, path)`: prints a solution path in a readable form. "
   ]
  },
  {
   "cell_type": "markdown",
   "metadata": {},
   "source": [
    "## Code"
   ]
  },
  {
   "cell_type": "code",
   "execution_count": 1,
   "metadata": {
    "collapsed": true
   },
   "outputs": [],
   "source": [
    "import numpy as np\n",
    "import random"
   ]
  },
  {
   "cell_type": "markdown",
   "metadata": {},
   "source": [
    "### Function Description\n",
    "`findBlank_p` function performs the following actions:\n",
    "* Intially converts a input list into a 3x3 matrix \n",
    "* Returns the row and column index for the location of the blank (the 0 value)"
   ]
  },
  {
   "cell_type": "code",
   "execution_count": 2,
   "metadata": {
    "collapsed": true
   },
   "outputs": [],
   "source": [
    "def findBlank_8p(startState):\n",
    "    startState=np.array(startState)\n",
    "    startState=startState.reshape(3,3)\n",
    "    for x, val in np.ndenumerate(startState):\n",
    "        if val == 0:\n",
    "            return x"
   ]
  },
  {
   "cell_type": "markdown",
   "metadata": {},
   "source": [
    "### Function Description\n",
    "`actionF_p` function performs the following actions:\n",
    "* Obtains location of blank by calling `findBlank_p`\n",
    "* Defines a list of all actions\n",
    "* Constrained actions are deleted from the list, based on the following logic:\n",
    "    * Elements of first row cannot move up\n",
    "    * Elements of last row cannot move down\n",
    "    * Elements of first column cannot move left\n",
    "    * Elements of last column cannot move right"
   ]
  },
  {
   "cell_type": "code",
   "execution_count": 3,
   "metadata": {
    "collapsed": false
   },
   "outputs": [],
   "source": [
    "def actionsF_8p(startState):\n",
    "    position=findBlank_8p(startState)\n",
    "    #Declare a list of all actions\n",
    "    action=['left','right','up','down']\n",
    "    #Elements of First Row cannot move Up\n",
    "    if position[0]==0:\n",
    "        del action[2]\n",
    "    #Elements of Last Row cannot move down\n",
    "    if position[0]==2:\n",
    "        del action[3]\n",
    "    #Elements of First Column cannot move left\n",
    "    if position[1]==0:\n",
    "        del action[0]\n",
    "    #Elements of Last Column cannot move right\n",
    "    if position[1]==2:\n",
    "        del action[1]\n",
    "    return action\n",
    "        "
   ]
  },
  {
   "cell_type": "markdown",
   "metadata": {},
   "source": [
    "### Function Description\n",
    "`takeActionF_p` function performs the following actions:\n",
    "* Make a copy of state\n",
    "* Obtains location of blank by calling `findBlank_p`\n",
    "* Convert state from list to a matrix form\n",
    "* Depending of the action\n",
    "    * Copy data from destination position to current position\n",
    "    * Initialise destination position to 0 (blank)\n",
    "* Convert state from matrix to list form\n",
    "* Return the value of new state  "
   ]
  },
  {
   "cell_type": "code",
   "execution_count": 4,
   "metadata": {
    "collapsed": true
   },
   "outputs": [],
   "source": [
    "def takeActionF_8p(state, action):\n",
    "    startState=state.copy()\n",
    "    position=findBlank_8p(startState)\n",
    "    startState=np.array(startState)\n",
    "    startState=startState.reshape(3,3)\n",
    "    if action=='left':\n",
    "        startState[position[0]][position[1]] = startState[position[0]][(position[1]-1)]\n",
    "        startState[position[0]][position[1]-1]=0\n",
    "        startState = list(startState.flat)\n",
    "        return startState\n",
    "    if action=='right':\n",
    "        startState[position[0]][position[1]]=startState[position[0]][(position[1]+1)]\n",
    "        startState[position[0]][(position[1]+1)]=0\n",
    "        startState = list(startState.flat)\n",
    "        return startState\n",
    "    if action=='up':\n",
    "        startState[position[0]][position[1]]=startState[position[0]-1][(position[1])]\n",
    "        startState[(position[0]-1)][position[1]]=0\n",
    "        startState = list(startState.flat)\n",
    "        return startState\n",
    "    if action=='down':\n",
    "        startState[position[0]][position[1]]=startState[(position[0]+1)][position[1]]\n",
    "        startState[(position[0]+1)][position[1]]=0\n",
    "        startState = list(startState.flat)\n",
    "        return startState"
   ]
  },
  {
   "cell_type": "code",
   "execution_count": 5,
   "metadata": {
    "collapsed": false
   },
   "outputs": [],
   "source": [
    "def depthLimitedSearch(state, goalState, actionsF, takeActionF, depthLimit):\n",
    "    if state == goalState:\n",
    "        return []\n",
    "    if depthLimit == 0:\n",
    "        return 'cutoff'\n",
    "    cutoffOccurred = False\n",
    "    for action in actionsF(state):\n",
    "        childState = takeActionF(state, action)\n",
    "        result = depthLimitedSearch(childState, goalState, actionsF, takeActionF, depthLimit-1)\n",
    "        if result == 'cutoff':\n",
    "            cutoffOccurred = True      \n",
    "        elif result != 'failure':\n",
    "            result=[childState]+result\n",
    "            return result\n",
    "    if cutoffOccurred == True:\n",
    "        return 'cutoff'\n",
    "    else:\n",
    "        return 'failure'"
   ]
  },
  {
   "cell_type": "code",
   "execution_count": 6,
   "metadata": {
    "collapsed": false
   },
   "outputs": [],
   "source": [
    "def iterativeDeepeningSearch(startState, goalState, actionsF, takeActionF, maxDepth):\n",
    "    for depth in range(maxDepth):\n",
    "        result = depthLimitedSearch(startState, goalState, actionsF, takeActionF, depth)\n",
    "        if result == 'failure':\n",
    "            return 'failure'\n",
    "        if result != 'cutoff':\n",
    "            result=[startState]+result \n",
    "            return result\n",
    "    return 'cutoff'\n"
   ]
  },
  {
   "cell_type": "markdown",
   "metadata": {},
   "source": [
    "### Function Description\n",
    "`printState_p` function performs the following actions:\n",
    "* Make a copy of startState\n",
    "* Find the position of blank (0) in the list and replace it with a blank (' ')\n",
    "* Convert state from a list to matrix form\n",
    "* Print the individual integers of the matrix using a `for` loop"
   ]
  },
  {
   "cell_type": "code",
   "execution_count": 7,
   "metadata": {
    "collapsed": false
   },
   "outputs": [],
   "source": [
    "def printState_8p(startState):\n",
    "    state=startState.copy()\n",
    "    for x, val in enumerate(state):\n",
    "        if val == 0:\n",
    "            state[x]=' '\n",
    "    state=np.array(state)\n",
    "    state=state.reshape(3,3)\n",
    "    for i in range (0,3):\n",
    "        print(state[i][0],state[i][1],state[i][2])"
   ]
  },
  {
   "cell_type": "markdown",
   "metadata": {},
   "source": [
    "### Function Description\n",
    "`printPath_p` function performs the following actions:\n",
    "* Print the introductory lines/statements\n",
    "* Calculate and print the path length using the `len` command\n",
    "* Call the function `printState` and individually print each path"
   ]
  },
  {
   "cell_type": "code",
   "execution_count": 8,
   "metadata": {
    "collapsed": true
   },
   "outputs": [],
   "source": [
    "def printPath_8p(startState, goalState, path):\n",
    "    print('Path from\\n')\n",
    "    printState_8p(startState)\n",
    "    print('\\n')\n",
    "    print('to')\n",
    "    print('\\n')\n",
    "    printState_8p(goalState)\n",
    "    print('\\n')\n",
    "    print('is %d nodes long'%(len(path)))\n",
    "    print('\\n')\n",
    "    for i in range (0,len(path)):\n",
    "        state=path[i]\n",
    "        printState_8p(state)\n",
    "        print('n')"
   ]
  },
  {
   "cell_type": "markdown",
   "metadata": {},
   "source": [
    "Example Results."
   ]
  },
  {
   "cell_type": "code",
   "execution_count": 9,
   "metadata": {
    "collapsed": false,
    "scrolled": true
   },
   "outputs": [],
   "source": [
    "startState = [1, 0, 3, 4, 2, 5, 6, 7, 8]"
   ]
  },
  {
   "cell_type": "code",
   "execution_count": 10,
   "metadata": {
    "collapsed": false
   },
   "outputs": [
    {
     "name": "stdout",
     "output_type": "stream",
     "text": [
      "1   3\n",
      "4 2 5\n",
      "6 7 8\n"
     ]
    }
   ],
   "source": [
    "printState_8p(startState)  "
   ]
  },
  {
   "cell_type": "code",
   "execution_count": 11,
   "metadata": {
    "collapsed": false,
    "scrolled": true
   },
   "outputs": [],
   "source": [
    "x=findBlank_8p(startState)"
   ]
  },
  {
   "cell_type": "code",
   "execution_count": 12,
   "metadata": {
    "collapsed": false
   },
   "outputs": [
    {
     "data": {
      "text/plain": [
       "0"
      ]
     },
     "execution_count": 12,
     "metadata": {},
     "output_type": "execute_result"
    }
   ],
   "source": [
    "x[0]"
   ]
  },
  {
   "cell_type": "code",
   "execution_count": null,
   "metadata": {
    "collapsed": false,
    "scrolled": true
   },
   "outputs": [],
   "source": [
    "actionsF_8p(startState)"
   ]
  },
  {
   "cell_type": "code",
   "execution_count": null,
   "metadata": {
    "collapsed": false
   },
   "outputs": [],
   "source": [
    "takeActionF_8p(startState, 'down')"
   ]
  },
  {
   "cell_type": "code",
   "execution_count": null,
   "metadata": {
    "collapsed": false
   },
   "outputs": [],
   "source": [
    "printState_8p(takeActionF_8p(startState, 'down'))"
   ]
  },
  {
   "cell_type": "code",
   "execution_count": null,
   "metadata": {
    "collapsed": false
   },
   "outputs": [],
   "source": [
    "goalState = takeActionF_8p(startState, 'down')\n",
    "goalState"
   ]
  },
  {
   "cell_type": "code",
   "execution_count": null,
   "metadata": {
    "collapsed": false
   },
   "outputs": [],
   "source": [
    "newState = takeActionF_8p(startState, 'down')"
   ]
  },
  {
   "cell_type": "code",
   "execution_count": null,
   "metadata": {
    "collapsed": false
   },
   "outputs": [],
   "source": [
    "newState == goalState"
   ]
  },
  {
   "cell_type": "code",
   "execution_count": null,
   "metadata": {
    "collapsed": false
   },
   "outputs": [],
   "source": [
    "startState"
   ]
  },
  {
   "cell_type": "code",
   "execution_count": null,
   "metadata": {
    "collapsed": false,
    "scrolled": true
   },
   "outputs": [],
   "source": [
    "path = depthLimitedSearch(startState, goalState, actionsF_8p, takeActionF_8p, 3)\n",
    "path"
   ]
  },
  {
   "cell_type": "code",
   "execution_count": null,
   "metadata": {
    "collapsed": false,
    "scrolled": true
   },
   "outputs": [],
   "source": [
    "path = iterativeDeepeningSearch(startState, goalState, actionsF_8p, takeActionF_8p, 3)\n",
    "path"
   ]
  },
  {
   "cell_type": "code",
   "execution_count": null,
   "metadata": {
    "collapsed": false
   },
   "outputs": [],
   "source": [
    "startState = [4, 7, 2, 1, 6, 5, 0, 3, 8]\n",
    "path = iterativeDeepeningSearch(startState, goalState, actionsF_8p, takeActionF_8p, 3)\n",
    "path"
   ]
  },
  {
   "cell_type": "code",
   "execution_count": null,
   "metadata": {
    "collapsed": false
   },
   "outputs": [],
   "source": [
    "startState = [4, 7, 2, 1, 6, 5, 0, 3, 8]\n",
    "path = iterativeDeepeningSearch(startState, goalState, actionsF_8p, takeActionF_8p, 5)\n",
    "path"
   ]
  },
  {
   "cell_type": "code",
   "execution_count": null,
   "metadata": {
    "collapsed": true
   },
   "outputs": [],
   "source": [
    "def randomStartState(goalState, actionsF, takeActionF, nSteps):\n",
    "    state = goalState\n",
    "    for i in range(nSteps):\n",
    "        state = takeActionF(state, random.choice(actionsF(state)))\n",
    "    return state"
   ]
  },
  {
   "cell_type": "code",
   "execution_count": null,
   "metadata": {
    "collapsed": false
   },
   "outputs": [],
   "source": [
    "startState = randomStartState(goalState, actionsF_8p, takeActionF_8p, 10)\n",
    "startState"
   ]
  },
  {
   "cell_type": "code",
   "execution_count": null,
   "metadata": {
    "collapsed": false
   },
   "outputs": [],
   "source": [
    "path = iterativeDeepeningSearch(startState, goalState, actionsF_8p, takeActionF_8p, 20)\n",
    "path"
   ]
  },
  {
   "cell_type": "markdown",
   "metadata": {},
   "source": [
    "Printing of `State` in readable form"
   ]
  },
  {
   "cell_type": "code",
   "execution_count": null,
   "metadata": {
    "collapsed": false
   },
   "outputs": [],
   "source": [
    "for p in path:\n",
    "    printState_8p(p)\n",
    "    print()"
   ]
  },
  {
   "cell_type": "markdown",
   "metadata": {},
   "source": [
    "Printing of complete path using `printPath_p function`"
   ]
  },
  {
   "cell_type": "code",
   "execution_count": null,
   "metadata": {
    "collapsed": false
   },
   "outputs": [],
   "source": [
    "printPath_8p(startState, goalState, path)"
   ]
  },
  {
   "cell_type": "code",
   "execution_count": null,
   "metadata": {
    "collapsed": false
   },
   "outputs": [],
   "source": [
    "%run -i A2grader.py"
   ]
  },
  {
   "cell_type": "markdown",
   "metadata": {},
   "source": [
    "## 15 Puzzle"
   ]
  },
  {
   "cell_type": "markdown",
   "metadata": {},
   "source": [
    "In this section, we implement iterative-deepening search algorithm for 15 puzzle. All the functions defined and used previously for the 8-puzzle are used here, except with some trivial modifications.\n",
    "Note:\n",
    "* An attempt was made to develop a generic function which was versatile to handle n-dimension puzzle. However, the A2grader.py did not have certain functions like `math`. Hence, certain parts of the fucntions for 8 and 16-puzzle have been hard coded. "
   ]
  },
  {
   "cell_type": "code",
   "execution_count": null,
   "metadata": {
    "collapsed": true
   },
   "outputs": [],
   "source": [
    "import numpy as np\n",
    "import random"
   ]
  },
  {
   "cell_type": "code",
   "execution_count": null,
   "metadata": {
    "collapsed": true
   },
   "outputs": [],
   "source": [
    "def findBlank_15p(startState):\n",
    "    startState=np.array(startState)\n",
    "    startState=startState.reshape(4,4)\n",
    "    for x, val in np.ndenumerate(startState):\n",
    "        if val == 0:\n",
    "            return x"
   ]
  },
  {
   "cell_type": "code",
   "execution_count": null,
   "metadata": {
    "collapsed": true
   },
   "outputs": [],
   "source": [
    "def actionsF_15p(startState):\n",
    "    position=findBlank_15p(startState)\n",
    "    action=['left','right','up','down']\n",
    "    if position[0]==0:\n",
    "        del action[2]\n",
    "    if position[0]==3:\n",
    "        del action[3]\n",
    "    if position[1]==0:\n",
    "        del action[0]\n",
    "    if position[1]==3:\n",
    "        del action[1]\n",
    "    return action    "
   ]
  },
  {
   "cell_type": "code",
   "execution_count": null,
   "metadata": {
    "collapsed": true
   },
   "outputs": [],
   "source": [
    "def takeActionF_15p(state, action):\n",
    "    startState=state.copy()\n",
    "    position=findBlank_15p(startState)\n",
    "    startState=np.array(startState)\n",
    "    startState=startState.reshape(4,4)\n",
    "    if action=='left':\n",
    "        startState[position[0]][position[1]] = startState[position[0]][(position[1]-1)]\n",
    "        startState[position[0]][position[1]-1]=0\n",
    "        startState = list(startState.flat)\n",
    "        return startState\n",
    "    if action=='right':\n",
    "        startState[position[0]][position[1]]=startState[position[0]][(position[1]+1)]\n",
    "        startState[position[0]][(position[1]+1)]=0\n",
    "        startState = list(startState.flat)\n",
    "        return startState\n",
    "    if action=='up':\n",
    "        startState[position[0]][position[1]]=startState[position[0]-1][(position[1])]\n",
    "        startState[(position[0]-1)][position[1]]=0\n",
    "        startState = list(startState.flat)\n",
    "        return startState\n",
    "    if action=='down':\n",
    "        startState[position[0]][position[1]]=startState[(position[0]+1)][position[1]]\n",
    "        startState[(position[0]+1)][position[1]]=0\n",
    "        startState = list(startState.flat)\n",
    "        return startState"
   ]
  },
  {
   "cell_type": "code",
   "execution_count": null,
   "metadata": {
    "collapsed": true
   },
   "outputs": [],
   "source": [
    "def depthLimitedSearch(state, goalState, actionsF, takeActionF, depthLimit):\n",
    "    if state == goalState:\n",
    "        return []\n",
    "    if depthLimit == 0:\n",
    "        return 'cutoff'\n",
    "    cutoffOccurred = False\n",
    "    for action in actionsF(state):\n",
    "        childState = takeActionF(state, action)\n",
    "        result = depthLimitedSearch(childState, goalState, actionsF, takeActionF, depthLimit-1)\n",
    "        if result == 'cutoff':\n",
    "            cutoffOccurred = True      \n",
    "        elif result != 'failure':\n",
    "            result=[childState]+result\n",
    "            return result\n",
    "    if cutoffOccurred == True:\n",
    "        return 'cutoff'\n",
    "    else:\n",
    "        return 'failure'"
   ]
  },
  {
   "cell_type": "code",
   "execution_count": null,
   "metadata": {
    "collapsed": true
   },
   "outputs": [],
   "source": [
    "def iterativeDeepeningSearch(startState, goalState, actionsF, takeActionF, maxDepth):\n",
    "    for depth in range(maxDepth):\n",
    "        result = depthLimitedSearch(startState, goalState, actionsF, takeActionF, depth)\n",
    "        if result == 'failure':\n",
    "            return 'failure'\n",
    "        if result != 'cutoff':\n",
    "            result=[startState]+result \n",
    "            return result\n",
    "    return 'cutoff'\n"
   ]
  },
  {
   "cell_type": "code",
   "execution_count": null,
   "metadata": {
    "collapsed": true
   },
   "outputs": [],
   "source": [
    "def printPath_15p(startState, goalState, path):\n",
    "    print('Path from \\n')\n",
    "    printState_15p(startState)\n",
    "    print('\\n')\n",
    "    print('to')\n",
    "    print('\\n')\n",
    "    printState_15p(goalState)\n",
    "    print('\\n')\n",
    "    print('is %d nodes long'%(len(path)))\n",
    "    print('\\n')\n",
    "    for i in range (0,len(path)):\n",
    "        state=path[i]\n",
    "        printState_15p(state)\n",
    "        print('\\n')"
   ]
  },
  {
   "cell_type": "code",
   "execution_count": null,
   "metadata": {
    "collapsed": true
   },
   "outputs": [],
   "source": [
    "def printState_15p(startState):\n",
    "    state=startState.copy()\n",
    "    for x, val in enumerate(state):\n",
    "        if val == 0:\n",
    "            state[x]=' '\n",
    "    state=np.array(state)\n",
    "    state=state.reshape(4,4)\n",
    "    for i in range (0,4):\n",
    "        print(state[i][0],state[i][1],state[i][2],state[i][3])"
   ]
  },
  {
   "cell_type": "code",
   "execution_count": null,
   "metadata": {
    "collapsed": true
   },
   "outputs": [],
   "source": [
    "def randomStartState(goalState, actionsF, takeActionF, nSteps):\n",
    "    state = goalState\n",
    "    for i in range(nSteps):\n",
    "        state = takeActionF(state, random.choice(actionsF(state)))\n",
    "    return state"
   ]
  },
  {
   "cell_type": "markdown",
   "metadata": {},
   "source": [
    "### Sample Outputs"
   ]
  },
  {
   "cell_type": "code",
   "execution_count": null,
   "metadata": {
    "collapsed": true
   },
   "outputs": [],
   "source": [
    "startState = [1, 5, 7, 3, 2, 6, 4, 11, 8, 9, 10, 13, 12, 15, 14, 0]"
   ]
  },
  {
   "cell_type": "code",
   "execution_count": null,
   "metadata": {
    "collapsed": false
   },
   "outputs": [],
   "source": [
    "actionsF_15p(startState)"
   ]
  },
  {
   "cell_type": "code",
   "execution_count": null,
   "metadata": {
    "collapsed": true
   },
   "outputs": [],
   "source": [
    "goalState=[1, 5, 3, 4, 2, 0, 6, 7, 8, 9, 10, 11, 12, 15, 14, 13]"
   ]
  },
  {
   "cell_type": "code",
   "execution_count": null,
   "metadata": {
    "collapsed": false
   },
   "outputs": [],
   "source": [
    "path = depthLimitedSearch(startState, goalState, actionsF_15p, takeActionF_15p, 3)\n",
    "path"
   ]
  },
  {
   "cell_type": "code",
   "execution_count": null,
   "metadata": {
    "collapsed": false
   },
   "outputs": [],
   "source": [
    "path = iterativeDeepeningSearch(startState, goalState, actionsF_15p, takeActionF_15p, 20)\n",
    "path"
   ]
  },
  {
   "cell_type": "code",
   "execution_count": null,
   "metadata": {
    "collapsed": false
   },
   "outputs": [],
   "source": [
    "printPath_15p(startState, goalState, path)"
   ]
  },
  {
   "cell_type": "markdown",
   "metadata": {},
   "source": [
    "Example output where achiveing `Goal State` from given `Start State` is not posibble, and `Cutoff` condition is reached"
   ]
  },
  {
   "cell_type": "code",
   "execution_count": null,
   "metadata": {
    "collapsed": true
   },
   "outputs": [],
   "source": [
    "startState = [9, 11, 13, 4, 7, 2, 10, 15, 14, 1, 6, 5, 0, 3, 8, 12]"
   ]
  },
  {
   "cell_type": "code",
   "execution_count": null,
   "metadata": {
    "collapsed": false
   },
   "outputs": [],
   "source": [
    "path = iterativeDeepeningSearch(startState, goalState, actionsF_15p, takeActionF_15p, 10)\n",
    "path"
   ]
  },
  {
   "cell_type": "markdown",
   "metadata": {},
   "source": [
    "Given a `Start State`, a valid `Goal State` is randomly generated and search algorithm is implemented"
   ]
  },
  {
   "cell_type": "code",
   "execution_count": null,
   "metadata": {
    "collapsed": true
   },
   "outputs": [],
   "source": [
    "goalState=[2, 5, 9, 0, 14, 11, 1, 15, 6, 8, 10, 3, 13, 4, 7, 12]"
   ]
  },
  {
   "cell_type": "code",
   "execution_count": null,
   "metadata": {
    "collapsed": false
   },
   "outputs": [],
   "source": [
    "startState = randomStartState(goalState, actionsF_15p, takeActionF_15p, 10)\n",
    "startState"
   ]
  },
  {
   "cell_type": "code",
   "execution_count": null,
   "metadata": {
    "collapsed": false
   },
   "outputs": [],
   "source": [
    "path = iterativeDeepeningSearch(startState, goalState, actionsF_15p, takeActionF_15p, 20)\n",
    "path"
   ]
  },
  {
   "cell_type": "code",
   "execution_count": null,
   "metadata": {
    "collapsed": false
   },
   "outputs": [],
   "source": [
    "printPath_15p(startState, goalState, path)"
   ]
  }
 ],
 "metadata": {
  "anaconda-cloud": {},
  "kernelspec": {
   "display_name": "Python [conda root]",
   "language": "python",
   "name": "conda-root-py"
  },
  "language_info": {
   "codemirror_mode": {
    "name": "ipython",
    "version": 3
   },
   "file_extension": ".py",
   "mimetype": "text/x-python",
   "name": "python",
   "nbconvert_exporter": "python",
   "pygments_lexer": "ipython3",
   "version": "3.5.2"
  }
 },
 "nbformat": 4,
 "nbformat_minor": 1
}
