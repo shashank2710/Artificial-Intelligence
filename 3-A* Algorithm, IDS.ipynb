{
 "cells": [
  {
   "cell_type": "markdown",
   "metadata": {},
   "source": [
    "# A3: A\\*, IDS, and Effective Branching Factor"
   ]
  },
  {
   "cell_type": "markdown",
   "metadata": {},
   "source": [
    "## Introduction"
   ]
  },
  {
   "cell_type": "markdown",
   "metadata": {},
   "source": [
    "For this assignment, we implemented the Recursive Best-First Search implementation of the A\\* algorithm given in class.  We named this function `aStarSearch`.  Also included in this notebook is the `iterativeDeepeningSearch` functions from Assignment 2. A new function named `ebf` was developed that returns an estimate of the effective branching factor for a search algorithm applied to a search problem.\n",
    "\n",
    "So, the functions developed in this assignment are as follows:\n",
    "\n",
    "   - `aStarSearch(startState, actionsF, takeActionF, goalTestF, hF)`\n",
    "   - `iterativeDeepeningSearch(startState, goalState, actionsF, takeActionF, maxDepth)`\n",
    "   - `ebf(nNodes, depth, precision=0.01)`, returns number of nodes expanded and depth reached during a search.\n",
    "\n",
    "We also applied `iterativeDeepeningSearch` and `aStarSearch` to several eight-tile sliding puzzle\n",
    "problems. For this, we included the following functions, from Assignment 2:\n",
    "\n",
    "  * `actionsF_8p(state)`: returns a list of up to four valid actions that can be applied in `state`. With each action include a step cost of 1. For example, if all four actions are possible from this state, return [('left', 1), ('right', 1), ('up', 1), ('down', 1)].\n",
    "  * `takeActionF_8p(state, action)`: return the state that results from applying `action` in `state` and the cost of the one step,\n",
    "  \n",
    "plus the following function for the eight-tile puzzle:\n",
    "\n",
    "  * `goalTestF_8p(state, goal)`\n",
    "  \n",
    "In the end of this assignemnt, we will compare their results by displayng solution path, depth, number of nodes \n",
    "generated, and the effective branching factor, and discuss the results.  We achieve this by defining the following function that prints the table as shown in the example below.\n",
    "\n",
    "   - runExperiment(goalState1, goalState2, goalState3, [h1, h2, h3])\n",
    "  "
   ]
  },
  {
   "cell_type": "markdown",
   "metadata": {},
   "source": [
    "Apply all four algorithms (`iterativeDeepeningSearch` plus `aStarSearch` with the three heuristic\n",
    "functions) to three eight-tile puzzle problems with start state\n",
    "\n",
    "$$\n",
    "\\begin{array}{ccc}\n",
    "1 & 2 & 3\\\\\n",
    "4 & 0 & 5\\\\\n",
    "6 & 7 & 8\n",
    "\\end{array}\n",
    "$$\n",
    "\n",
    "and these three goal states.\n",
    "\n",
    "$$\n",
    "\\begin{array}{ccccccccccc}\n",
    "1 & 2 & 3  & ~~~~ & 1 & 2 & 3  &  ~~~~ & 1 & 0 &  3\\\\\n",
    "4 & 0 & 5  & & 4 & 5 & 8  & & 4 & 5 & 8\\\\\n",
    "6 & 7 & 8 &  & 6 & 0 & 7  & & 2 & 6 & 7\n",
    "\\end{array}\n",
    "$$"
   ]
  },
  {
   "cell_type": "markdown",
   "metadata": {},
   "source": [
    "## Heuristic Functions\n",
    "\n",
    "For `aStarSearch`function the following three heuristic functions were designed.\n",
    "\n",
    "  * `h1_8p(state, goal)`: $h(state, goal) = 0$, for all states $state$ and all goal states $goal$,\n",
    "  * `h2_8p(state, goal)`: $h(state, goal) = m$, where $m$ is the Manhattan distance that the blank is from its goal position,\n",
    "  * `h3_8p(state, goal)`: $h(state, goal) = ?$, that you define.  It must be admissible, and not constant for all states."
   ]
  },
  {
   "cell_type": "markdown",
   "metadata": {},
   "source": [
    "\n",
    "           [1, 2, 3, 4, 0, 5, 6, 7, 8]    [1, 2, 3, 4, 5, 8, 6, 0, 7]    [1, 0, 3, 4, 5, 8, 2, 6, 7] \n",
    "    Algorithm    Depth  Nodes  EBF              Depth  Nodes  EBF              Depth  Nodes  EBF          \n",
    "         IDS       0      0  0.000                3     43  3.086               11 225850  2.954         \n",
    "        A*h1       0      0  0.000                3    116  4.488               11 643246  3.263         \n",
    "        A*h2       0      0  0.000                3     51  3.297               11 100046  2.733         \n",
    "\n"
   ]
  },
  {
   "cell_type": "code",
   "execution_count": 1,
   "metadata": {
    "collapsed": false
   },
   "outputs": [],
   "source": [
    "# from A3mysolution import *"
   ]
  },
  {
   "cell_type": "markdown",
   "metadata": {},
   "source": [
    "First, some example output for the ebf function."
   ]
  },
  {
   "cell_type": "code",
   "execution_count": 2,
   "metadata": {
    "collapsed": true
   },
   "outputs": [],
   "source": [
    "import numpy as np\n",
    "import math\n",
    "import copy\n",
    "import pandas as pd"
   ]
  },
  {
   "cell_type": "markdown",
   "metadata": {},
   "source": [
    "## Effective Branch Factor\n",
    "The formulae for Effective Branching Factor (EBF) is given by:\n",
    "                $$ \\frac{1-b^{d+1}}{1-b} = Nodes$$ \n",
    "                where b is the Effective Branch Factor \n",
    "                       d is the depth of search\n",
    "                       \n",
    "This equation can be solved using 2 methods:\n",
    "* Binary Search\n",
    "* Newton-Raphson Method\n",
    "\n",
    "For the ebf function defined below, the ebf equation has been solved using the Newton-Raphson method of obtaining local minima (zero) of an equation. Kindly refer to (https://en.wikipedia.org/wiki/Newton%27s_method) for more information about the Newton-raphson equation"
   ]
  },
  {
   "cell_type": "code",
   "execution_count": 3,
   "metadata": {
    "collapsed": false
   },
   "outputs": [],
   "source": [
    "nodes=0\n",
    "netdepth=0\n",
    "\n",
    "def ebf(nNodes, depth, precision=0.01):\n",
    "    if depth==0:\n",
    "        if nNodes==1:\n",
    "            return 1.0\n",
    "        else:\n",
    "            return 0.0\n",
    "    global nodes\n",
    "    nodes=nNodes\n",
    "    global netdepth\n",
    "    netdepth=depth\n",
    "    precision=precision\n",
    "    x0=nNodes**(1/(depth+1))\n",
    "    result = solve(quadratic, x0, precision) \n",
    "    return result\n",
    "\n",
    "def derivative(f, x, h):\n",
    "      return (f(x+h) - f(x-h)) / (2.0*h)  \n",
    "\n",
    "def quadratic(x):\n",
    "    return ((1-x**(netdepth +1))/(1-x))-nodes     \n",
    "\n",
    "def solve(f, x0, h):\n",
    "    lastX = x0\n",
    "    nextX = lastX + 10* h  \n",
    "    while (abs(lastX - nextX) > h):  \n",
    "        newY = f(nextX)                        \n",
    "        lastX = nextX\n",
    "        nextX = lastX - newY / derivative(f, lastX, h)  \n",
    "    return nextX        "
   ]
  },
  {
   "cell_type": "markdown",
   "metadata": {},
   "source": [
    "### EBF Examples"
   ]
  },
  {
   "cell_type": "code",
   "execution_count": 4,
   "metadata": {
    "collapsed": false,
    "scrolled": true
   },
   "outputs": [
    {
     "data": {
      "text/plain": [
       "1.6608024572821003"
      ]
     },
     "execution_count": 4,
     "metadata": {},
     "output_type": "execute_result"
    }
   ],
   "source": [
    "ebf(10, 3)"
   ]
  },
  {
   "cell_type": "code",
   "execution_count": 5,
   "metadata": {
    "collapsed": false
   },
   "outputs": [
    {
     "data": {
      "text/plain": [
       "1.0"
      ]
     },
     "execution_count": 5,
     "metadata": {},
     "output_type": "execute_result"
    }
   ],
   "source": [
    "ebf(1, 0)"
   ]
  },
  {
   "cell_type": "code",
   "execution_count": 6,
   "metadata": {
    "collapsed": false
   },
   "outputs": [
    {
     "data": {
      "text/plain": [
       "0.0"
      ]
     },
     "execution_count": 6,
     "metadata": {},
     "output_type": "execute_result"
    }
   ],
   "source": [
    "ebf(0,0)"
   ]
  },
  {
   "cell_type": "code",
   "execution_count": 7,
   "metadata": {
    "collapsed": false
   },
   "outputs": [
    {
     "data": {
      "text/plain": [
       "1.0000000000000007"
      ]
     },
     "execution_count": 7,
     "metadata": {},
     "output_type": "execute_result"
    }
   ],
   "source": [
    "ebf(2, 1)"
   ]
  },
  {
   "cell_type": "code",
   "execution_count": 8,
   "metadata": {
    "collapsed": false
   },
   "outputs": [
    {
     "data": {
      "text/plain": [
       "0.9999999999659235"
      ]
     },
     "execution_count": 8,
     "metadata": {},
     "output_type": "execute_result"
    }
   ],
   "source": [
    "ebf(2, 1, precision=0.000001)"
   ]
  },
  {
   "cell_type": "code",
   "execution_count": 9,
   "metadata": {
    "collapsed": false
   },
   "outputs": [
    {
     "data": {
      "text/plain": [
       "11.275597027190864"
      ]
     },
     "execution_count": 9,
     "metadata": {},
     "output_type": "execute_result"
    }
   ],
   "source": [
    "ebf(200000, 5)"
   ]
  },
  {
   "cell_type": "code",
   "execution_count": 10,
   "metadata": {
    "collapsed": false
   },
   "outputs": [
    {
     "data": {
      "text/plain": [
       "1.2374964630891387"
      ]
     },
     "execution_count": 10,
     "metadata": {},
     "output_type": "execute_result"
    }
   ],
   "source": [
    "ebf(200000, 50)"
   ]
  },
  {
   "cell_type": "markdown",
   "metadata": {},
   "source": [
    "### Function Description\n",
    "The following functions have been imported from the Solutions for Assignment 2 posted by Prof. Charles Anderson, CSU CS 440 (http://www.cs.colostate.edu/~anderson/cs440/doku.php?id=schedule)\n",
    "  * `actionsF_8p(state)`: returns a list of up to four valid actions that can be applied in `state`. With each action include a step cost of 1. For example, if all four actions are possible from this state, return [('left', 1), ('right', 1), ('up', 1), ('down', 1)].\n",
    "  * `takeActionF_8p(state, action)`: return the state that results from applying `action` in `state` and the cost of the one step,"
   ]
  },
  {
   "cell_type": "code",
   "execution_count": 11,
   "metadata": {
    "collapsed": false
   },
   "outputs": [],
   "source": [
    "def findBlank_8p(s):\n",
    "    return iTorc(s.index(0))\n",
    "\n",
    "def actionsF_8p(state):\n",
    "    r, c = findBlank_8p(state)\n",
    "    actions = []\n",
    "    if c > 0:\n",
    "        actions.append(('left',1))\n",
    "    if c < 2:\n",
    "        actions.append(('right',1))\n",
    "    if r > 0:\n",
    "        actions.append(('up',1))\n",
    "    if r < 2:\n",
    "        actions.append(('down',1))\n",
    "    return actions\n",
    "\n",
    "\n",
    "def takeActionF_8p(state, action):\n",
    "    import copy\n",
    "    state = copy.deepcopy(state)\n",
    "    r, c = findBlank_8p(state)\n",
    "    dr = dc = 0\n",
    "    if action == (('left',1)):\n",
    "        dc -= 1\n",
    "    elif action == (('right',1)):\n",
    "        dc += 1\n",
    "    elif action == (('up',1)):\n",
    "        dr -= 1\n",
    "    elif action == (('down',1)):\n",
    "        dr += 1\n",
    "    newr, newc = r+dr, c+dc\n",
    "    setTile(state, r, c, getTile(state, newr, newc))\n",
    "    setTile(state, newr, newc, 0)\n",
    "    return (state,1)\n",
    "\n",
    "def setTile(state, row, col, tile):\n",
    "    state[rcToi(row, col)] = tile\n",
    "    return state\n",
    "\n",
    "\n",
    "def getTile(state, row, col):\n",
    "    return state[rcToi(row, col)]\n",
    "\n",
    "def rcToi(row, col):\n",
    "    return row*3+col\n",
    "\n",
    "\n",
    "def iTorc(i):\n",
    "    row = i // 3\n",
    "    col = i - row*3\n",
    "    return (row, col)"
   ]
  },
  {
   "cell_type": "markdown",
   "metadata": {},
   "source": [
    "### Function Description\n",
    "This function performs `Iterative Deeeping` Search and has been included from Assigment 2, with some modifications. "
   ]
  },
  {
   "cell_type": "code",
   "execution_count": 12,
   "metadata": {
    "collapsed": true
   },
   "outputs": [],
   "source": [
    "COUNT = 0\n",
    "\n",
    "def incCount():\n",
    "    global COUNT\n",
    "    COUNT += 1\n",
    "    \n",
    "def getNodeCount():\n",
    "    global COUNT\n",
    "    tmp = COUNT\n",
    "    COUNT = 0\n",
    "    return tmp\n",
    "\n",
    "def iterativeDeepeningSearch(startState, goalState, actionsF, takeActionF, maxDepth):\n",
    "    global COUNT\n",
    "    COUNT=0\n",
    "    for depth in range(maxDepth):\n",
    "        result = depthLimitedSearch(startState, goalState, actionsF, takeActionF, depth)\n",
    "        if result == 'failure':\n",
    "            return 'failure'\n",
    "        if result != 'cutoff':\n",
    "            result=[startState]+result \n",
    "            return result\n",
    "    return 'cutoff'\n",
    "\n",
    "def depthLimitedSearch(state, goalState, actionsF, takeActionF, depthLimit):\n",
    "    if state == goalState:\n",
    "        return []\n",
    "    if depthLimit == 0:\n",
    "        return 'cutoff'\n",
    "    cutoffOccurred = False\n",
    "    for action in actionsF(state):\n",
    "        global COUNT\n",
    "        COUNT+=1\n",
    "        childState,_ = takeActionF(state, action)\n",
    "        result = depthLimitedSearch(childState, goalState, actionsF, takeActionF, depthLimit-1)\n",
    "        if result == 'cutoff':\n",
    "            cutoffOccurred = True      \n",
    "        elif result != 'failure':\n",
    "            result=[childState]+result\n",
    "            return result\n",
    "    if cutoffOccurred == True:\n",
    "        return 'cutoff'\n",
    "    else:\n",
    "        return 'failure'"
   ]
  },
  {
   "cell_type": "code",
   "execution_count": 13,
   "metadata": {
    "collapsed": true
   },
   "outputs": [],
   "source": [
    "def actionsF_simple(state):\n",
    "    succs = {'a': ['b', 'c'], 'b':['e', 'f', 'g'], 'b':['a'], 'c':['h'], 'h':['i'], 'i':['j', 'k', 'l'], 'k':['z']}\n",
    "    return [(s, 1) for s in succs.get(state, [])]\n",
    "\n",
    "def takeActionF_simple(state, action):\n",
    "    return action\n",
    "\n",
    "def goalTestF_simple(state, goal):\n",
    "    return state == goal\n",
    "\n",
    "def h_simple(state, goal):\n",
    "    return 1"
   ]
  },
  {
   "cell_type": "code",
   "execution_count": 14,
   "metadata": {
    "collapsed": true
   },
   "outputs": [],
   "source": [
    "def goalTestF_8p(state, goal):\n",
    "    return state==goal"
   ]
  },
  {
   "cell_type": "markdown",
   "metadata": {},
   "source": [
    "### Function Description\n",
    "For `aStarSearch`function the following three heuristic functions were designed.\n",
    "\n",
    "  * `h1_8p(state, goal)`: $h(state, goal) = 0$, for all states $state$ and all goal states $goal$,\n",
    "  * `h2_8p(state, goal)`: $h(state, goal) = m$, where $m$ is the Manhattan distance that the blank is from its goal position,\n",
    "  * `h3_8p(state, goal)`: $h(state, goal) = ?$, that you define.  It must be admissible, and not constant for all states.\n",
    "  \n",
    "The third heuristic function (h3_8p) is a custom implementation that is admissible. This function determines how many tiles in the startState are different than those in the Goal State. This means if the start is the goal the difference is zero."
   ]
  },
  {
   "cell_type": "code",
   "execution_count": 15,
   "metadata": {
    "collapsed": true
   },
   "outputs": [],
   "source": [
    "def h1_8p(state, goal):\n",
    "    return 0"
   ]
  },
  {
   "cell_type": "code",
   "execution_count": 16,
   "metadata": {
    "collapsed": true
   },
   "outputs": [],
   "source": [
    "def h2_8p(state, goal):\n",
    "    x=findBlank_8p(state)\n",
    "    y=findBlank_8p(goal)\n",
    "    return abs(y[0]-x[0]) + abs(y[1]-x[1])"
   ]
  },
  {
   "cell_type": "code",
   "execution_count": 17,
   "metadata": {
    "collapsed": true
   },
   "outputs": [],
   "source": [
    "def h3_8p(state, goal):\n",
    "    x = 0\n",
    "    for i in range(len(state)):\n",
    "        if state[i] != goal[i]:\n",
    "            x = x + 1          \n",
    "    return x"
   ]
  },
  {
   "cell_type": "code",
   "execution_count": 18,
   "metadata": {
    "collapsed": false
   },
   "outputs": [
    {
     "data": {
      "text/plain": [
       "[('b', 1), ('c', 1)]"
      ]
     },
     "execution_count": 18,
     "metadata": {},
     "output_type": "execute_result"
    }
   ],
   "source": [
    "actions = actionsF_simple('a')\n",
    "actions"
   ]
  },
  {
   "cell_type": "code",
   "execution_count": 19,
   "metadata": {
    "collapsed": false
   },
   "outputs": [
    {
     "data": {
      "text/plain": [
       "('b', 1)"
      ]
     },
     "execution_count": 19,
     "metadata": {},
     "output_type": "execute_result"
    }
   ],
   "source": [
    "takeActionF_simple('a', actions[0])"
   ]
  },
  {
   "cell_type": "code",
   "execution_count": 20,
   "metadata": {
    "collapsed": false
   },
   "outputs": [
    {
     "data": {
      "text/plain": [
       "True"
      ]
     },
     "execution_count": 20,
     "metadata": {},
     "output_type": "execute_result"
    }
   ],
   "source": [
    "goalTestF_simple('a', 'a')"
   ]
  },
  {
   "cell_type": "code",
   "execution_count": 21,
   "metadata": {
    "collapsed": false
   },
   "outputs": [
    {
     "data": {
      "text/plain": [
       "1"
      ]
     },
     "execution_count": 21,
     "metadata": {},
     "output_type": "execute_result"
    }
   ],
   "source": [
    "h_simple('a', 'z')"
   ]
  },
  {
   "cell_type": "code",
   "execution_count": 22,
   "metadata": {
    "collapsed": false,
    "scrolled": true
   },
   "outputs": [
    {
     "data": {
      "text/plain": [
       "['a', 'c', 'h', 'i', 'k', 'z']"
      ]
     },
     "execution_count": 22,
     "metadata": {},
     "output_type": "execute_result"
    }
   ],
   "source": [
    "iterativeDeepeningSearch('a', 'z', actionsF_simple, takeActionF_simple, 10)"
   ]
  },
  {
   "cell_type": "markdown",
   "metadata": {},
   "source": [
    "### Function Description\n",
    "This function performs the Recursive Best-First Seatch and has been borrowed from the the class notes of Prof. Charles Anderson, for CSU CS 440 (http://nbviewer.jupyter.org/url/www.cs.colostate.edu/~anderson/cs440/notebooks/07%20Informed%20Search.ipynb). It has been slightly modified to extract node and depth values for any given A Star Search"
   ]
  },
  {
   "cell_type": "code",
   "execution_count": 23,
   "metadata": {
    "collapsed": false
   },
   "outputs": [],
   "source": [
    "NCOUNT = 0\n",
    "\n",
    "def getNCount():\n",
    "    global NCOUNT\n",
    "    tmp = NCOUNT\n",
    "    NCOUNT = 0\n",
    "    return tmp\n",
    "\n",
    "class Node:\n",
    "    def __init__(self, state, f=0, g=0 ,h=0):\n",
    "        self.state = state\n",
    "        self.f = f\n",
    "        self.g = g\n",
    "        self.h = h\n",
    "    def __repr__(self):\n",
    "        return \"Node(\" + repr(self.state) + \", f=\" + repr(self.f) + \\\n",
    "               \", g=\" + repr(self.g) + \", h=\" + repr(self.h) + \")\"\n",
    "\n",
    "def aStarSearch(startState, actionsF, takeActionF, goalTestF, hF):\n",
    "    h = hF(startState)\n",
    "    startNode = Node(state=startState, f=0+h, g=0, h=h)\n",
    "    return aStarSearchHelper(startNode, actionsF, takeActionF, goalTestF, hF, float('inf'))\n",
    "\n",
    "def aStarSearchHelper(parentNode, actionsF, takeActionF, goalTestF, hF, fmax):\n",
    "    global NCOUNT\n",
    "    if goalTestF(parentNode.state):\n",
    "        return ([parentNode.state], parentNode.g)\n",
    "    ## Construct list of children nodes with f, g, and h values\n",
    "    actions = actionsF(parentNode.state)\n",
    "    if not actions:\n",
    "        return (\"failure\", float('inf'))\n",
    "    children = []\n",
    "    for action in actions:\n",
    "        NCOUNT += 1\n",
    "        (childState,stepCost) = takeActionF(parentNode.state, action)\n",
    "        h = hF(childState)\n",
    "        g = parentNode.g + stepCost\n",
    "        f = max(h+g, parentNode.f)\n",
    "        childNode = Node(state=childState, f=f, g=g, h=h)\n",
    "        children.append(childNode)\n",
    "    while True:\n",
    "        # find best child\n",
    "        children.sort(key = lambda n: n.f) # sort by f value\n",
    "        bestChild = children[0]\n",
    "        if bestChild.f > fmax:\n",
    "            return (\"failure\",bestChild.f)\n",
    "        # next lowest f value\n",
    "        alternativef = children[1].f if len(children) > 1 else float('inf')\n",
    "        # expand best child, reassign its f value to be returned value\n",
    "        result,bestChild.f = aStarSearchHelper(bestChild, actionsF, takeActionF, goalTestF,\n",
    "                                        hF, min(fmax,alternativef))\n",
    "        if result is not \"failure\":               \n",
    "            result.insert(0,parentNode.state)     \n",
    "            return (result, bestChild.f)     "
   ]
  },
  {
   "cell_type": "code",
   "execution_count": 24,
   "metadata": {
    "collapsed": false
   },
   "outputs": [
    {
     "data": {
      "text/plain": [
       "(['a', 'c', 'h', 'i', 'k', 'z'], 5)"
      ]
     },
     "execution_count": 24,
     "metadata": {},
     "output_type": "execute_result"
    }
   ],
   "source": [
    "aStarSearch('a',actionsF_simple, takeActionF_simple,\n",
    "            lambda s: goalTestF_simple(s, 'z'),\n",
    "            lambda s: h_simple(s, 'z'))"
   ]
  },
  {
   "cell_type": "code",
   "execution_count": 25,
   "metadata": {
    "collapsed": true
   },
   "outputs": [],
   "source": [
    "startState = [1,2,3, 4,0,5, 6,7,8]\n",
    "\n",
    "goalState =  [1,2,3, 4,0,5, 6,7,8]\n",
    "goalState2 = [1,2,3, 4,5,8, 6,0,7]\n",
    "goalState3 = [1,0,3, 4,5,8, 2,6,7]"
   ]
  },
  {
   "cell_type": "markdown",
   "metadata": {},
   "source": [
    "### Function Description\n",
    "This section implements the following function:\n",
    "* runExperiment(goalState1, goalState2, goalState3,h=[h1_8p, h2_8p, h3_8p]):\n",
    "For a given set of parameters:\n",
    "* The function collects IDS Data\n",
    "* The function collects  A Star Search data\n",
    "* Prints the given data"
   ]
  },
  {
   "cell_type": "code",
   "execution_count": 26,
   "metadata": {
    "collapsed": false
   },
   "outputs": [],
   "source": [
    "def getIDSData(goal):\n",
    "    res = iterativeDeepeningSearch(startState, goal,actionsF_8p,takeActionF_8p, 20)\n",
    "    depth = len(res) - 1 \n",
    "    nodes = getNodeCount()\n",
    "    branchf = ebf(nodes, depth)\n",
    "    \n",
    "    return depth, nodes, branchf\n",
    "\n",
    "def getAStarData(goal, hfunc):\n",
    "    \n",
    "    res = aStarSearch(startState,actionsF_8p, takeActionF_8p,\n",
    "            lambda s: goalTestF_8p(s, goal),lambda s: hfunc(s, goal))\n",
    "    depth = len(res[0]) - 1 \n",
    "    nodes = getNCount()\n",
    "    branchf = ebf(nodes, depth)\n",
    "    \n",
    "    return depth, nodes, branchf\n",
    "\n",
    "def runExperiment(goalState1, goalState2, goalState3,h=[h1_8p, h2_8p, h3_8p]):\n",
    "    mformat = '''\n",
    "            {}    {}    {} \n",
    "Algorithm    Depth  Nodes       EBF              Depth  Nodes       EBF              Depth  Nodes       EBF          \n",
    "     IDS       {}      {}       {:.3f}              {}      {}      {:.3f}              {}      {}      {:.3f}         \n",
    "    A*h1       {}      {}       {:.3f}              {}      {}      {:.3f}              {}      {}      {:.3f}\n",
    "    A*h2       {}      {}       {:.3f}              {}      {}      {:.3f}              {}      {}      {:.3f}\n",
    "    A*h3       {}      {}       {:.3f}              {}      {}      {:.3f}              {}      {}      {:.3f}   \n",
    "'''\n",
    "\n",
    "    # IDS results\n",
    "    ids1 = getIDSData(goalState)\n",
    "    ids2 = getIDSData(goalState2)\n",
    "    ids3 = getIDSData(goalState3)\n",
    "    \n",
    "\n",
    "    # H1 results\n",
    "    aStar1 = getAStarData(goalState, h1_8p)\n",
    "    aStar2 = getAStarData(goalState2, h1_8p)\n",
    "    aStar3 = getAStarData(goalState3, h1_8p)\n",
    "      \n",
    "\n",
    "    # H2 results\n",
    "    aStar4 = getAStarData(goalState, h2_8p)\n",
    "    aStar5 = getAStarData(goalState2, h2_8p)\n",
    "    aStar6 = getAStarData(goalState3, h2_8p)\n",
    "    \n",
    "    \n",
    "    # H3 results\n",
    "    aStar7 = getAStarData(goalState, h3_8p)\n",
    "    aStar8 = getAStarData(goalState2, h3_8p)\n",
    "    aStar9 = getAStarData(goalState3, h3_8p)\n",
    "   \n",
    " \n",
    "    mformat = mformat.format(goalState,\n",
    "                             goalState2,\n",
    "                             goalState3,\n",
    "                             # IDS\n",
    "                             ids1[0], ids1[1], ids1[2],\n",
    "                             ids2[0], ids2[1], ids2[2],\n",
    "                             ids3[0], ids3[1], ids3[2],\n",
    "                             # H1\n",
    "                             aStar1[0], aStar1[1], aStar1[2],\n",
    "                             aStar2[0], aStar2[1], aStar2[2],\n",
    "                             aStar3[0], aStar3[1], aStar3[2],\n",
    "                             # H2\n",
    "                             aStar4[0], aStar4[1], aStar4[2],\n",
    "                             aStar5[0], aStar5[1], aStar5[2],\n",
    "                             aStar6[0], aStar6[1], aStar6[2],\n",
    "                             # H3\n",
    "                             aStar7[0], aStar7[1], aStar7[2],\n",
    "                             aStar8[0], aStar8[1], aStar8[2],\n",
    "                             aStar9[0], aStar9[1], aStar9[2])\n",
    "\n",
    "    print(mformat)\n",
    "    return\n"
   ]
  },
  {
   "cell_type": "code",
   "execution_count": 27,
   "metadata": {
    "collapsed": false
   },
   "outputs": [
    {
     "name": "stdout",
     "output_type": "stream",
     "text": [
      "\n",
      "            [1, 2, 3, 4, 0, 5, 6, 7, 8]    [1, 2, 3, 4, 5, 8, 6, 0, 7]    [1, 0, 3, 4, 5, 8, 2, 6, 7] \n",
      "Algorithm    Depth  Nodes       EBF              Depth  Nodes       EBF              Depth  Nodes       EBF          \n",
      "     IDS       0      0       0.000              3      43      3.086              11      225850      2.954         \n",
      "    A*h1       0      38       0.000              3      116      4.488              11      643246      3.263\n",
      "    A*h2       0      0       0.000              3      51      3.297              11      100046      2.733\n",
      "    A*h3       0      0       0.000              3      9      1.578              11      5232      2.049   \n",
      "\n"
     ]
    }
   ],
   "source": [
    "runExperiment(goalState, goalState2, goalState3,h=[h1_8p, h2_8p, h3_8p])"
   ]
  },
  {
   "cell_type": "code",
   "execution_count": 28,
   "metadata": {
    "collapsed": false,
    "scrolled": true
   },
   "outputs": [
    {
     "name": "stdout",
     "output_type": "stream",
     "text": [
      "\n",
      "Testing actionsF_8p([1, 2, 3, 4, 5, 6, 7, 0, 8])\n",
      "\n",
      "--- 5/5 points. Your actionsF_8p correctly returned [('left', 1), ('right', 1), ('up', 1)]\n",
      "\n",
      "Testing takeActionF_8p([1, 2, 3, 4, 5, 6, 7, 0, 8], (up, 1))\n",
      "\n",
      "--- 5/5 points. Your takeActionsF_8p correctly returned ([1, 2, 3, 4, 0, 6, 7, 5, 8], 1)\n",
      "\n",
      "Testing goalTestF_8p([1, 2, 3, 4, 5, 6, 7, 0, 8], [1, 2, 3, 4, 5, 6, 7, 0, 8])\n",
      "\n",
      "--- 5/5 points. Your goalTestF_8p correctly True\n",
      "\n",
      "Testing aStarSearch([1, 2, 3, 4, 5, 6, 7, 0, 8],\n",
      "                     actionsF_8p, takeActionF_8p,\n",
      "                     lambda s: goalTestF_8p(s, [0, 2, 3, 1, 4,  6, 7, 5, 8]),\n",
      "                     lambda s: h1_8p(s, [0, 2, 3, 1, 4,  6, 7, 5, 8]))\n",
      "\n",
      "--- 20/20 points. Your search correctly returned ([[1, 2, 3, 4, 5, 6, 7, 0, 8], [1, 2, 3, 4, 0, 6, 7, 5, 8], [1, 2, 3, 0, 4, 6, 7, 5, 8], [0, 2, 3, 1, 4, 6, 7, 5, 8]], 3)\n",
      "\n",
      "Testing iterativeDeepeningSearch([5, 2, 8, 0, 1, 4, 3, 7, 6], \n",
      "                                 [0, 2, 3, 1, 4,  6, 7, 5, 8],\n",
      "                                 actionsF_8p, takeActionF_8p, 10)\n",
      "\n",
      "--- 15/15 points. Your search correctly returned cutoff\n",
      "\n",
      "Intro to AI Grade is 50/50\n"
     ]
    }
   ],
   "source": [
    "%run -i A3grader.py"
   ]
  }
 ],
 "metadata": {
  "anaconda-cloud": {},
  "kernelspec": {
   "display_name": "Python [conda root]",
   "language": "python",
   "name": "conda-root-py"
  },
  "language_info": {
   "codemirror_mode": {
    "name": "ipython",
    "version": 3
   },
   "file_extension": ".py",
   "mimetype": "text/x-python",
   "name": "python",
   "nbconvert_exporter": "python",
   "pygments_lexer": "ipython3",
   "version": "3.5.2"
  }
 },
 "nbformat": 4,
 "nbformat_minor": 1
}
